{
 "cells": [
  {
   "cell_type": "code",
   "execution_count": 1,
   "metadata": {},
   "outputs": [],
   "source": [
    "import shutil\n",
    "import numpy as np\n",
    "import pandas as pd\n",
    "\n",
    "destination = \"/home/nsturma/rc-car/data\"\n",
    "seed = 101"
   ]
  },
  {
   "cell_type": "code",
   "execution_count": 2,
   "metadata": {},
   "outputs": [],
   "source": [
    "# copy csv to destination"
   ]
  },
  {
   "cell_type": "code",
   "execution_count": 3,
   "metadata": {},
   "outputs": [
    {
     "data": {
      "text/html": [
       "<div>\n",
       "<style scoped>\n",
       "    .dataframe tbody tr th:only-of-type {\n",
       "        vertical-align: middle;\n",
       "    }\n",
       "\n",
       "    .dataframe tbody tr th {\n",
       "        vertical-align: top;\n",
       "    }\n",
       "\n",
       "    .dataframe thead th {\n",
       "        text-align: right;\n",
       "    }\n",
       "</style>\n",
       "<table border=\"1\" class=\"dataframe\">\n",
       "  <thead>\n",
       "    <tr style=\"text-align: right;\">\n",
       "      <th></th>\n",
       "      <th>dist_0</th>\n",
       "      <th>ABS_RX</th>\n",
       "      <th>ABS_Y</th>\n",
       "    </tr>\n",
       "  </thead>\n",
       "  <tbody>\n",
       "    <tr>\n",
       "      <th>2020-06-16_08-53-24-362221</th>\n",
       "      <td>242.32</td>\n",
       "      <td>0.0</td>\n",
       "      <td>0.0</td>\n",
       "    </tr>\n",
       "    <tr>\n",
       "      <th>2020-06-16_08-53-25-504531</th>\n",
       "      <td>241.55</td>\n",
       "      <td>0.0</td>\n",
       "      <td>0.2</td>\n",
       "    </tr>\n",
       "    <tr>\n",
       "      <th>2020-06-16_08-53-26-657194</th>\n",
       "      <td>183.66</td>\n",
       "      <td>0.0</td>\n",
       "      <td>0.5</td>\n",
       "    </tr>\n",
       "    <tr>\n",
       "      <th>2020-06-16_08-53-27-807611</th>\n",
       "      <td>121.49</td>\n",
       "      <td>0.0</td>\n",
       "      <td>0.5</td>\n",
       "    </tr>\n",
       "    <tr>\n",
       "      <th>2020-06-16_08-53-28-958042</th>\n",
       "      <td>112.80</td>\n",
       "      <td>-1.0</td>\n",
       "      <td>0.5</td>\n",
       "    </tr>\n",
       "  </tbody>\n",
       "</table>\n",
       "</div>"
      ],
      "text/plain": [
       "                            dist_0  ABS_RX  ABS_Y\n",
       "2020-06-16_08-53-24-362221  242.32     0.0    0.0\n",
       "2020-06-16_08-53-25-504531  241.55     0.0    0.2\n",
       "2020-06-16_08-53-26-657194  183.66     0.0    0.5\n",
       "2020-06-16_08-53-27-807611  121.49     0.0    0.5\n",
       "2020-06-16_08-53-28-958042  112.80    -1.0    0.5"
      ]
     },
     "execution_count": 3,
     "metadata": {},
     "output_type": "execute_result"
    }
   ],
   "source": [
    "df = pd.read_csv(destination+\"data.csv\", index_col=0)\n",
    "df.head()"
   ]
  },
  {
   "cell_type": "code",
   "execution_count": 4,
   "metadata": {},
   "outputs": [
    {
     "data": {
      "text/plain": [
       "(2656, 3)"
      ]
     },
     "execution_count": 4,
     "metadata": {},
     "output_type": "execute_result"
    }
   ],
   "source": [
    "df.shape"
   ]
  },
  {
   "cell_type": "code",
   "execution_count": 5,
   "metadata": {},
   "outputs": [],
   "source": [
    "val_test = df.sample(500,random_state=seed)\n",
    "\n",
    "val = df.head(300)\n",
    "test = df.tail(200)\n",
    "\n",
    "train_idx = list(set(df.index) - set(val.index) - set(test.index))\n",
    "train = df[df.index.isin(train_idx)]"
   ]
  },
  {
   "cell_type": "code",
   "execution_count": 6,
   "metadata": {},
   "outputs": [
    {
     "data": {
      "text/plain": [
       "(200, 3)"
      ]
     },
     "execution_count": 6,
     "metadata": {},
     "output_type": "execute_result"
    }
   ],
   "source": [
    "test.shape"
   ]
  },
  {
   "cell_type": "code",
   "execution_count": 7,
   "metadata": {},
   "outputs": [
    {
     "data": {
      "text/plain": [
       "(300, 3)"
      ]
     },
     "execution_count": 7,
     "metadata": {},
     "output_type": "execute_result"
    }
   ],
   "source": [
    "val.shape"
   ]
  },
  {
   "cell_type": "code",
   "execution_count": 8,
   "metadata": {},
   "outputs": [
    {
     "data": {
      "text/plain": [
       "(2156, 3)"
      ]
     },
     "execution_count": 8,
     "metadata": {},
     "output_type": "execute_result"
    }
   ],
   "source": [
    "train.shape"
   ]
  },
  {
   "cell_type": "code",
   "execution_count": 11,
   "metadata": {},
   "outputs": [],
   "source": [
    "train.to_csv(\"../data/train.csv\")\n",
    "val.to_csv(\"../data/val.csv\")\n",
    "test.to_csv(\"../data/test.csv\")"
   ]
  },
  {
   "cell_type": "code",
   "execution_count": 10,
   "metadata": {},
   "outputs": [
    {
     "name": "stdout",
     "output_type": "stream",
     "text": [
      "test data completed\n",
      "val data completed\n",
      "train data completed\n"
     ]
    }
   ],
   "source": [
    "for i in test.index:\n",
    "    name = i + \".jpg\"\n",
    "    src = f\"/data01/nsturma/autopilot/{name}\"\n",
    "    shutil.copy(src, destination+\"test\")\n",
    "    \n",
    "print(\"test data completed\")\n",
    "\n",
    "for i in val.index:\n",
    "    name = i + \".jpg\"\n",
    "    src = f\"/data01/nsturma/autopilot/{name}\"\n",
    "    shutil.copy(src, destination+\"val\")\n",
    "\n",
    "print(\"val data completed\")\n",
    "\n",
    "for i in train.index:\n",
    "    name = i + \".jpg\"\n",
    "    src = f\"/data01/nsturma/autopilot/{name}\"\n",
    "    shutil.copy(src, destination+\"train\")\n",
    "\n",
    "print(\"train data completed\")"
   ]
  },
  {
   "cell_type": "code",
   "execution_count": null,
   "metadata": {},
   "outputs": [],
   "source": []
  }
 ],
 "metadata": {
  "kernelspec": {
   "display_name": "Python 3",
   "language": "python",
   "name": "python3"
  },
  "language_info": {
   "codemirror_mode": {
    "name": "ipython",
    "version": 3
   },
   "file_extension": ".py",
   "mimetype": "text/x-python",
   "name": "python",
   "nbconvert_exporter": "python",
   "pygments_lexer": "ipython3",
   "version": "3.6.10"
  }
 },
 "nbformat": 4,
 "nbformat_minor": 4
}
