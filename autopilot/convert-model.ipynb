{
 "cells": [
  {
   "cell_type": "code",
   "execution_count": 8,
   "metadata": {},
   "outputs": [
    {
     "data": {
      "text/plain": [
       "'2.1.0'"
      ]
     },
     "execution_count": 8,
     "metadata": {},
     "output_type": "execute_result"
    }
   ],
   "source": [
    "import numpy as np\n",
    "import tensorflow as tf\n",
    "\n",
    "tf.__version__"
   ]
  },
  {
   "cell_type": "code",
   "execution_count": 6,
   "metadata": {},
   "outputs": [
    {
     "data": {
      "text/plain": [
       "540760"
      ]
     },
     "execution_count": 6,
     "metadata": {},
     "output_type": "execute_result"
    }
   ],
   "source": [
    "converter = tf.lite.TFLiteConverter.from_saved_model(\"nils_model\")\n",
    "tflite_model = converter.convert()\n",
    "open(\"nils_model_converted.tflite\", \"wb\").write(tflite_model)"
   ]
  },
  {
   "cell_type": "code",
   "execution_count": 67,
   "metadata": {},
   "outputs": [
    {
     "name": "stdout",
     "output_type": "stream",
     "text": [
      "[[-1.0978103]]\n"
     ]
    }
   ],
   "source": [
    "# Load the TFLite model and allocate tensors.\n",
    "interpreter = tf.lite.Interpreter(model_path=\"nils_model_converted.tflite\")\n",
    "interpreter.allocate_tensors()\n",
    "\n",
    "# Get input and output tensors.\n",
    "input_details = interpreter.get_input_details()\n",
    "output_details = interpreter.get_output_details()\n",
    "\n",
    "# Test the model on random input data.\n",
    "input_shape = input_details[0]['shape']\n",
    "input_data = np.array(np.random.random_sample(input_shape), dtype=np.float32)\n",
    "interpreter.set_tensor(input_details[0]['index'], input_data)\n",
    "\n",
    "interpreter.invoke()\n",
    "\n",
    "# The function `get_tensor()` returns a copy of the tensor data.\n",
    "# Use `tensor()` in order to get a pointer to the tensor.\n",
    "output_data = interpreter.get_tensor(output_details[0]['index'])\n",
    "print(output_data)"
   ]
  },
  {
   "cell_type": "code",
   "execution_count": 68,
   "metadata": {},
   "outputs": [],
   "source": [
    "a = [[1,2]]"
   ]
  },
  {
   "cell_type": "code",
   "execution_count": 69,
   "metadata": {},
   "outputs": [
    {
     "data": {
      "text/plain": [
       "[1, 2]"
      ]
     },
     "execution_count": 69,
     "metadata": {},
     "output_type": "execute_result"
    }
   ],
   "source": [
    "a[0]"
   ]
  },
  {
   "cell_type": "code",
   "execution_count": 48,
   "metadata": {},
   "outputs": [],
   "source": [
    "input_tensor = interpreter.tensor(tensor_index)()[0]"
   ]
  },
  {
   "cell_type": "code",
   "execution_count": 60,
   "metadata": {},
   "outputs": [],
   "source": [
    "b = input_tensor[:,:]"
   ]
  },
  {
   "cell_type": "code",
   "execution_count": 61,
   "metadata": {},
   "outputs": [
    {
     "data": {
      "text/plain": [
       "(150, 150, 3)"
      ]
     },
     "execution_count": 61,
     "metadata": {},
     "output_type": "execute_result"
    }
   ],
   "source": [
    "b.shape"
   ]
  },
  {
   "cell_type": "code",
   "execution_count": 62,
   "metadata": {},
   "outputs": [
    {
     "data": {
      "text/plain": [
       "array([[[0.9751294 , 0.25434104, 0.8153441 ],\n",
       "        [0.28489518, 0.86479354, 0.29289916],\n",
       "        [0.62251896, 0.60672915, 0.6001335 ],\n",
       "        ...,\n",
       "        [0.43394017, 0.02408455, 0.43955067],\n",
       "        [0.04012147, 0.2972554 , 0.5934291 ],\n",
       "        [0.72994953, 0.8255122 , 0.5253233 ]],\n",
       "\n",
       "       [[0.96140754, 0.29578257, 0.56712854],\n",
       "        [0.2481641 , 0.95636535, 0.4821553 ],\n",
       "        [0.56829774, 0.80933374, 0.6534303 ],\n",
       "        ...,\n",
       "        [0.94321054, 0.71360284, 0.5769304 ],\n",
       "        [0.5021673 , 0.91621995, 0.5710691 ],\n",
       "        [0.29242328, 0.9429569 , 0.11705913]],\n",
       "\n",
       "       [[0.94981796, 0.3624832 , 0.07393711],\n",
       "        [0.14818643, 0.00881343, 0.1705345 ],\n",
       "        [0.4063883 , 0.213592  , 0.38765252],\n",
       "        ...,\n",
       "        [0.70559067, 0.17757684, 0.06029443],\n",
       "        [0.24611285, 0.05711827, 0.61062944],\n",
       "        [0.65661865, 0.8274233 , 0.16691326]],\n",
       "\n",
       "       ...,\n",
       "\n",
       "       [[0.850799  , 0.9954056 , 0.99599046],\n",
       "        [0.45082438, 0.5859028 , 0.7522018 ],\n",
       "        [0.69869465, 0.41222432, 0.42548025],\n",
       "        ...,\n",
       "        [0.16610436, 0.4465907 , 0.49439585],\n",
       "        [0.14062747, 0.3530199 , 0.33701423],\n",
       "        [0.6506483 , 0.6218632 , 0.77478284]],\n",
       "\n",
       "       [[0.98174465, 0.71927315, 0.32018086],\n",
       "        [0.15393056, 0.76979464, 0.8935785 ],\n",
       "        [0.03144675, 0.36428457, 0.8409307 ],\n",
       "        ...,\n",
       "        [0.679078  , 0.02120728, 0.14349864],\n",
       "        [0.1236579 , 0.7117884 , 0.34987968],\n",
       "        [0.72000337, 0.7347709 , 0.8505082 ]],\n",
       "\n",
       "       [[0.45704558, 0.97826   , 0.59662586],\n",
       "        [0.20599313, 0.4226027 , 0.8665694 ],\n",
       "        [0.9480336 , 0.38839123, 0.13342121],\n",
       "        ...,\n",
       "        [0.4007463 , 0.5217481 , 0.26992485],\n",
       "        [0.02402283, 0.28588122, 0.49986565],\n",
       "        [0.45245346, 0.01102335, 0.86316204]]], dtype=float32)"
      ]
     },
     "execution_count": 62,
     "metadata": {},
     "output_type": "execute_result"
    }
   ],
   "source": [
    "b"
   ]
  },
  {
   "cell_type": "code",
   "execution_count": 63,
   "metadata": {},
   "outputs": [
    {
     "data": {
      "text/plain": [
       "(1, 150, 150, 3)"
      ]
     },
     "execution_count": 63,
     "metadata": {},
     "output_type": "execute_result"
    }
   ],
   "source": [
    "a.shape"
   ]
  },
  {
   "cell_type": "code",
   "execution_count": 64,
   "metadata": {},
   "outputs": [
    {
     "data": {
      "text/plain": [
       "(1, 150, 150, 3)"
      ]
     },
     "execution_count": 64,
     "metadata": {},
     "output_type": "execute_result"
    }
   ],
   "source": [
    "b = np.expand_dims(b, axis=0)\n",
    "b.shape"
   ]
  },
  {
   "cell_type": "code",
   "execution_count": 66,
   "metadata": {},
   "outputs": [
    {
     "data": {
      "text/plain": [
       "array([[[[0.9751294 , 0.25434104, 0.8153441 ],\n",
       "         [0.28489518, 0.86479354, 0.29289916],\n",
       "         [0.62251896, 0.60672915, 0.6001335 ],\n",
       "         ...,\n",
       "         [0.43394017, 0.02408455, 0.43955067],\n",
       "         [0.04012147, 0.2972554 , 0.5934291 ],\n",
       "         [0.72994953, 0.8255122 , 0.5253233 ]],\n",
       "\n",
       "        [[0.96140754, 0.29578257, 0.56712854],\n",
       "         [0.2481641 , 0.95636535, 0.4821553 ],\n",
       "         [0.56829774, 0.80933374, 0.6534303 ],\n",
       "         ...,\n",
       "         [0.94321054, 0.71360284, 0.5769304 ],\n",
       "         [0.5021673 , 0.91621995, 0.5710691 ],\n",
       "         [0.29242328, 0.9429569 , 0.11705913]],\n",
       "\n",
       "        [[0.94981796, 0.3624832 , 0.07393711],\n",
       "         [0.14818643, 0.00881343, 0.1705345 ],\n",
       "         [0.4063883 , 0.213592  , 0.38765252],\n",
       "         ...,\n",
       "         [0.70559067, 0.17757684, 0.06029443],\n",
       "         [0.24611285, 0.05711827, 0.61062944],\n",
       "         [0.65661865, 0.8274233 , 0.16691326]],\n",
       "\n",
       "        ...,\n",
       "\n",
       "        [[0.850799  , 0.9954056 , 0.99599046],\n",
       "         [0.45082438, 0.5859028 , 0.7522018 ],\n",
       "         [0.69869465, 0.41222432, 0.42548025],\n",
       "         ...,\n",
       "         [0.16610436, 0.4465907 , 0.49439585],\n",
       "         [0.14062747, 0.3530199 , 0.33701423],\n",
       "         [0.6506483 , 0.6218632 , 0.77478284]],\n",
       "\n",
       "        [[0.98174465, 0.71927315, 0.32018086],\n",
       "         [0.15393056, 0.76979464, 0.8935785 ],\n",
       "         [0.03144675, 0.36428457, 0.8409307 ],\n",
       "         ...,\n",
       "         [0.679078  , 0.02120728, 0.14349864],\n",
       "         [0.1236579 , 0.7117884 , 0.34987968],\n",
       "         [0.72000337, 0.7347709 , 0.8505082 ]],\n",
       "\n",
       "        [[0.45704558, 0.97826   , 0.59662586],\n",
       "         [0.20599313, 0.4226027 , 0.8665694 ],\n",
       "         [0.9480336 , 0.38839123, 0.13342121],\n",
       "         ...,\n",
       "         [0.4007463 , 0.5217481 , 0.26992485],\n",
       "         [0.02402283, 0.28588122, 0.49986565],\n",
       "         [0.45245346, 0.01102335, 0.86316204]]]], dtype=float32)"
      ]
     },
     "execution_count": 66,
     "metadata": {},
     "output_type": "execute_result"
    }
   ],
   "source": [
    "b"
   ]
  },
  {
   "cell_type": "code",
   "execution_count": null,
   "metadata": {},
   "outputs": [],
   "source": []
  }
 ],
 "metadata": {
  "kernelspec": {
   "display_name": "Python 3",
   "language": "python",
   "name": "python3"
  },
  "language_info": {
   "codemirror_mode": {
    "name": "ipython",
    "version": 3
   },
   "file_extension": ".py",
   "mimetype": "text/x-python",
   "name": "python",
   "nbconvert_exporter": "python",
   "pygments_lexer": "ipython3",
   "version": "3.7.7"
  }
 },
 "nbformat": 4,
 "nbformat_minor": 4
}
